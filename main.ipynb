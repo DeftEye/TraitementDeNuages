{
 "cells": [
  {
   "cell_type": "markdown",
   "metadata": {},
   "source": [
    "# Preprocessing Pandas"
   ]
  },
  {
   "cell_type": "code",
   "execution_count": null,
   "metadata": {},
   "outputs": [],
   "source": [
    "import pandas as pd\n",
    "sample_submission = pd.read_csv(\"understanding_cloud_organization/sample_submission.csv\")\n",
    "train = pd.read_csv(\"understanding_cloud_organization/train_320.csv\")"
   ]
  },
  {
   "cell_type": "code",
   "execution_count": null,
   "metadata": {},
   "outputs": [],
   "source": [
    "train['Image_name'] = train['Image_Label'].apply(lambda x: x.split('_')[0])\n",
    "train['Label_name'] = train['Image_Label'].apply(lambda x: x.split('_')[1])\n",
    "train.drop('Image_Label',axis=1,inplace=True)\n",
    "train = train.pivot('Image_name','Label_name','EncodedPixels')"
   ]
  },
  {
   "cell_type": "code",
   "execution_count": null,
   "metadata": {},
   "outputs": [],
   "source": [
    "train.head()"
   ]
  },
  {
   "cell_type": "markdown",
   "metadata": {},
   "source": [
    "# Affichage Image"
   ]
  },
  {
   "cell_type": "code",
   "execution_count": null,
   "metadata": {},
   "outputs": [],
   "source": [
    "%matplotlib inline\n",
    "\n",
    "import matplotlib.pyplot as plt\n",
    "import matplotlib.image as mpimg\n",
    "import numpy as np\n",
    "\n",
    "img=mpimg.imread('./understanding_cloud_organization/train_images_320/009e2f3.jpg')\n",
    "img2=mpimg.imread('./understanding_cloud_organization/train_images_320_Black_Fish_Gravel_Sugar_Flower/009e2f3.jpg')\n",
    "\n",
    "print(img)\n",
    "\n",
    "f, axarr = plt.subplots(1,2)\n",
    "axarr[0].imshow(img)\n",
    "axarr[1].imshow(img2)\n",
    "\n"
   ]
  },
  {
   "cell_type": "markdown",
   "metadata": {},
   "source": [
    "# DATA LOADING"
   ]
  },
  {
   "cell_type": "code",
   "execution_count": null,
   "metadata": {},
   "outputs": [],
   "source": [
    "from transformations import MoveAxis, Normalize01"
   ]
  },
  {
   "cell_type": "code",
   "execution_count": null,
   "metadata": {},
   "outputs": [],
   "source": [
    "from transformations import Compose, DenseTarget\n",
    "from transformations import MoveAxis, Normalize01\n",
    "from customdatasets import SegmentationDataSet\n",
    "from torch.utils.data import DataLoader\n",
    "from sklearn.model_selection import train_test_split\n",
    "import pathlib\n",
    "\n",
    "# root directory\n",
    "root = pathlib.Path.cwd() / 'understanding_cloud_organization'\n",
    "def get_filenames_of_path(path: pathlib.Path, ext: str = '*'):\n",
    "    \"\"\"Returns a list of files in a directory/path. Uses pathlib.\"\"\"\n",
    "    filenames = [file for file in path.glob(ext) if file.is_file()]\n",
    "    return filenames\n",
    "\n",
    "# input and target files\n",
    "inputs = get_filenames_of_path(root / 'train_images_320')\n",
    "targets = get_filenames_of_path(root / 'train_images_320_Black_Fish_Gravel_Sugar_Flower')\n",
    "    \n",
    "\n",
    "# training transformations and augmentations\n",
    "transforms = Compose([\n",
    "    DenseTarget(),\n",
    "    Normalize01(),\n",
    "    MoveAxis(),\n",
    "])\n",
    "\n",
    "# random seed\n",
    "random_seed = 42\n",
    "\n",
    "# split dataset into training set and validation set\n",
    "train_size = 0.8  # 80:20 split\n",
    "\n",
    "inputs_train, inputs_valid = train_test_split(\n",
    "    inputs,\n",
    "    random_state=random_seed,\n",
    "    train_size=train_size,\n",
    "    shuffle=True)\n",
    "\n",
    "\n",
    "targets_train, targets_valid = train_test_split(\n",
    "    targets,\n",
    "    random_state=random_seed,\n",
    "    train_size=train_size,\n",
    "    shuffle=True)\n",
    "\n",
    "# dataset training\n",
    "dataset_train = SegmentationDataSet(inputs=inputs_train,\n",
    "                                    targets=targets_train,\n",
    "                                    transform=transforms)\n",
    "\n",
    "    \n",
    "\n",
    "# dataset validation\n",
    "dataset_valid = SegmentationDataSet(inputs=inputs_valid,\n",
    "                                    targets=targets_valid,\n",
    "                                    transform=transforms)\n",
    "print(len(dataset_train))\n",
    "\n",
    "# dataloader training\n",
    "dataloader_training = DataLoader(dataset=dataset_train,\n",
    "                                 batch_size=4,\n",
    "                                 shuffle=False)\n",
    "print(dataloader_training)\n",
    "# dataloader validation\n",
    "dataloader_validation = DataLoader(dataset=dataset_valid,\n",
    "                                   batch_size=4,\n",
    "                                   shuffle=False)\n",
    "\n"
   ]
  },
  {
   "cell_type": "code",
   "execution_count": 2,
   "metadata": {},
   "outputs": [
    {
     "name": "stdout",
     "output_type": "stream",
     "text": [
      "x = shape: torch.Size([4, 3, 320, 480]); type: torch.float32\n",
      "x = min: 0.0; max: 1.0\n",
      "y = shape: torch.Size([4, 4, 320, 480]); class: tensor([0., 1.]); type: torch.float32\n",
      "y = min: 0.0; max: 1.0\n"
     ]
    }
   ],
   "source": [
    "x, y = next(iter(dataloader_training))\n",
    "w, z = next(iter(dataloader_training))\n",
    "print(f'x = shape: {x.shape}; type: {x.dtype}')\n",
    "print(f'x = min: {x.min()}; max: {x.max()}')\n",
    "print(f'y = shape: {y.shape}; class: {y.unique()}; type: {y.dtype}')\n",
    "print(f'y = min: {y.min()}; max: {y.max()}')\n"
   ]
  },
  {
   "cell_type": "code",
   "execution_count": 3,
   "metadata": {},
   "outputs": [
    {
     "name": "stdout",
     "output_type": "stream",
     "text": [
      "(4, 320, 480)\n",
      "[[[0.16078432 0.1882353  0.2627451 ]\n",
      "  [0.10980392 0.13725491 0.21176471]\n",
      "  [0.44705883 0.47058824 0.5568628 ]\n",
      "  ...\n",
      "  [0.03137255 0.06666667 0.1882353 ]\n",
      "  [0.03137255 0.06666667 0.18039216]\n",
      "  [0.03137255 0.06666667 0.18039216]]\n",
      "\n",
      " [[0.05098039 0.07450981 0.16078432]\n",
      "  [0.11372549 0.13725491 0.22352941]\n",
      "  [0.11372549 0.13725491 0.23137255]\n",
      "  ...\n",
      "  [0.03529412 0.07058824 0.19215687]\n",
      "  [0.03529412 0.07058824 0.18431373]\n",
      "  [0.03529412 0.07058824 0.18431373]]\n",
      "\n",
      " [[0.07843138 0.10196079 0.20392157]\n",
      "  [0.10588235 0.12941177 0.23137255]\n",
      "  [0.05490196 0.07843138 0.18039216]\n",
      "  ...\n",
      "  [0.03921569 0.07450981 0.19607843]\n",
      "  [0.03529412 0.07058824 0.19215687]\n",
      "  [0.03529412 0.07058824 0.18431373]]\n",
      "\n",
      " ...\n",
      "\n",
      " [[0.21960784 0.23921569 0.3137255 ]\n",
      "  [0.15294118 0.17254902 0.24705882]\n",
      "  [0.16078432 0.18039216 0.25490198]\n",
      "  ...\n",
      "  [0.0627451  0.07843138 0.18431373]\n",
      "  [0.0627451  0.07843138 0.18431373]\n",
      "  [0.23529412 0.2509804  0.35686275]]\n",
      "\n",
      " [[0.18039216 0.2        0.27450982]\n",
      "  [0.12156863 0.14117648 0.21568628]\n",
      "  [0.12941177 0.14901961 0.22352941]\n",
      "  ...\n",
      "  [0.03921569 0.05490196 0.16078432]\n",
      "  [0.08235294 0.09803922 0.20392157]\n",
      "  [0.16470589 0.18039216 0.28627452]]\n",
      "\n",
      " [[0.14901961 0.16862746 0.24313726]\n",
      "  [0.22352941 0.24313726 0.31764707]\n",
      "  [0.10196079 0.12156863 0.19607843]\n",
      "  ...\n",
      "  [0.05098039 0.06666667 0.17254902]\n",
      "  [0.05882353 0.07450981 0.18039216]\n",
      "  [0.12941177 0.14509805 0.2509804 ]]]\n",
      "[[[0.61960787 0.6313726  0.5882353 ]\n",
      "  [0.87058824 0.88235295 0.84705883]\n",
      "  [0.7411765  0.7529412  0.7254902 ]\n",
      "  ...\n",
      "  [0.07058824 0.09803922 0.12941177]\n",
      "  [0.09411765 0.10980392 0.14509805]\n",
      "  [0.09019608 0.10588235 0.14117648]]\n",
      "\n",
      " [[0.96862745 0.9764706  0.972549  ]\n",
      "  [0.9647059  0.972549   0.96862745]\n",
      "  [0.5529412  0.5568628  0.5647059 ]\n",
      "  ...\n",
      "  [0.06666667 0.09411765 0.13333334]\n",
      "  [0.07058824 0.08627451 0.12156863]\n",
      "  [0.33333334 0.34901962 0.38431373]]\n",
      "\n",
      " [[0.75686276 0.75686276 0.79607844]\n",
      "  [0.54509807 0.54509807 0.58431375]\n",
      "  [0.29803923 0.29803923 0.3372549 ]\n",
      "  ...\n",
      "  [0.06666667 0.09411765 0.13333334]\n",
      "  [0.1254902  0.15294118 0.18431373]\n",
      "  [0.2627451  0.2901961  0.32156864]]\n",
      "\n",
      " ...\n",
      "\n",
      " [[0.33333334 0.35686275 0.41960785]\n",
      "  [0.40392157 0.42745098 0.49019608]\n",
      "  [0.24313726 0.26666668 0.32941177]\n",
      "  ...\n",
      "  [0.42745098 0.43137255 0.44705883]\n",
      "  [0.41568628 0.41960785 0.4392157 ]\n",
      "  [0.4117647  0.41568628 0.43529412]]\n",
      "\n",
      " [[0.05490196 0.07843138 0.14117648]\n",
      "  [0.19607843 0.21960784 0.28235295]\n",
      "  [0.09411765 0.11764706 0.18039216]\n",
      "  ...\n",
      "  [0.42745098 0.43137255 0.44705883]\n",
      "  [0.42352942 0.42745098 0.44313726]\n",
      "  [0.41960785 0.42352942 0.44313726]]\n",
      "\n",
      " [[0.09019608 0.11372549 0.1764706 ]\n",
      "  [0.1254902  0.14901961 0.21176471]\n",
      "  [0.15686275 0.18039216 0.24313726]\n",
      "  ...\n",
      "  [0.43137255 0.43529412 0.4509804 ]\n",
      "  [0.43137255 0.43529412 0.4509804 ]\n",
      "  [0.43137255 0.43529412 0.4509804 ]]]\n",
      "[[[0.03921569 0.0627451  0.1882353 ]\n",
      "  [0.05490196 0.07843138 0.20392157]\n",
      "  [0.03921569 0.0627451  0.1882353 ]\n",
      "  ...\n",
      "  [0.03137255 0.05098039 0.16470589]\n",
      "  [0.05490196 0.07058824 0.1764706 ]\n",
      "  [0.04705882 0.0627451  0.16078432]]\n",
      "\n",
      " [[0.05098039 0.07450981 0.2       ]\n",
      "  [0.04313726 0.06666667 0.19215687]\n",
      "  [0.04313726 0.06666667 0.19215687]\n",
      "  ...\n",
      "  [0.05490196 0.07450981 0.1882353 ]\n",
      "  [0.04705882 0.0627451  0.1764706 ]\n",
      "  [0.05882353 0.07450981 0.18039216]]\n",
      "\n",
      " [[0.05098039 0.07450981 0.2       ]\n",
      "  [0.03921569 0.0627451  0.1882353 ]\n",
      "  [0.06666667 0.09019608 0.21568628]\n",
      "  ...\n",
      "  [0.03137255 0.05098039 0.16862746]\n",
      "  [0.03921569 0.05882353 0.17254902]\n",
      "  [0.03137255 0.04705882 0.16078432]]\n",
      "\n",
      " ...\n",
      "\n",
      " [[0.47058824 0.5058824  0.4862745 ]\n",
      "  [0.4745098  0.50980395 0.49803922]\n",
      "  [0.5019608  0.5372549  0.53333336]\n",
      "  ...\n",
      "  [0.16862746 0.18039216 0.23921569]\n",
      "  [0.08235294 0.09411765 0.15294118]\n",
      "  [0.12156863 0.13333334 0.19215687]]\n",
      "\n",
      " [[0.627451   0.6666667  0.63529414]\n",
      "  [0.52156866 0.5568628  0.5372549 ]\n",
      "  [0.5372549  0.57254905 0.5686275 ]\n",
      "  ...\n",
      "  [0.1882353  0.2        0.25882354]\n",
      "  [0.13333334 0.14509805 0.20392157]\n",
      "  [0.1254902  0.13725491 0.19607843]]\n",
      "\n",
      " [[0.52156866 0.56078434 0.5294118 ]\n",
      "  [0.52156866 0.5568628  0.5372549 ]\n",
      "  [0.45882353 0.48235294 0.4745098 ]\n",
      "  ...\n",
      "  [0.10196079 0.11372549 0.17254902]\n",
      "  [0.24313726 0.25490198 0.3137255 ]\n",
      "  [0.11764706 0.12941177 0.1882353 ]]]\n",
      "[[[0.7058824  0.7176471  0.7372549 ]\n",
      "  [0.8156863  0.83137256 0.84313726]\n",
      "  [0.7254902  0.73333335 0.7294118 ]\n",
      "  ...\n",
      "  [0.09803922 0.11764706 0.19215687]\n",
      "  [0.09019608 0.10980392 0.18431373]\n",
      "  [0.07843138 0.09803922 0.17254902]]\n",
      "\n",
      " [[0.8627451  0.8666667  0.8745098 ]\n",
      "  [0.9137255  0.92156863 0.91764706]\n",
      "  [0.92941177 0.9372549  0.91764706]\n",
      "  ...\n",
      "  [0.09019608 0.10980392 0.18431373]\n",
      "  [0.08235294 0.10196079 0.1764706 ]\n",
      "  [0.09803922 0.11764706 0.19215687]]\n",
      "\n",
      " [[0.8        0.8        0.8       ]\n",
      "  [0.81960785 0.8235294  0.8039216 ]\n",
      "  [0.91764706 0.92156863 0.8901961 ]\n",
      "  ...\n",
      "  [0.09411765 0.11372549 0.1882353 ]\n",
      "  [0.11372549 0.13333334 0.20784314]\n",
      "  [0.08235294 0.10196079 0.1764706 ]]\n",
      "\n",
      " ...\n",
      "\n",
      " [[0.14509805 0.18431373 0.15294118]\n",
      "  [0.1254902  0.16470589 0.13333334]\n",
      "  [0.16078432 0.19607843 0.1764706 ]\n",
      "  ...\n",
      "  [0.3137255  0.33333334 0.35686275]\n",
      "  [0.35686275 0.3764706  0.4       ]\n",
      "  [0.2627451  0.2784314  0.3137255 ]]\n",
      "\n",
      " [[0.43137255 0.47058824 0.43529412]\n",
      "  [0.20784314 0.24705882 0.21568628]\n",
      "  [0.11764706 0.14117648 0.1254902 ]\n",
      "  ...\n",
      "  [0.42745098 0.44313726 0.47843137]\n",
      "  [0.27058825 0.28627452 0.32156864]\n",
      "  [0.2627451  0.2784314  0.3137255 ]]\n",
      "\n",
      " [[0.2        0.22745098 0.19607843]\n",
      "  [0.12156863 0.14901961 0.12156863]\n",
      "  [0.16078432 0.18431373 0.16862746]\n",
      "  ...\n",
      "  [0.44705883 0.4627451  0.49803922]\n",
      "  [0.2509804  0.26666668 0.3019608 ]\n",
      "  [0.3882353  0.40392157 0.4392157 ]]]\n"
     ]
    },
    {
     "data": {
      "text/plain": [
       "<matplotlib.image.AxesImage at 0x7fa0718b8dd8>"
      ]
     },
     "execution_count": 3,
     "metadata": {},
     "output_type": "execute_result"
    },
    {
     "data": {
      "image/png": "[encoded data removed]",
      "text/plain": [
       "<Figure size 432x288 with 2 Axes>"
      ]
     },
     "metadata": {
      "needs_background": "light"
     },
     "output_type": "display_data"
    }
   ],
   "source": [
    "import torchvision.utils\n",
    "from skimage.io import imread\n",
    "import numpy as np\n",
    "import helper\n",
    "%matplotlib inline\n",
    "\n",
    "import matplotlib.pyplot as plt\n",
    "import matplotlib.image as mpimg\n",
    "\n",
    "x, y = next(iter(dataloader_training))\n",
    "\n",
    "true_inputs = x\n",
    "\n",
    "true_labels = y\n",
    "print(true_labels[0].numpy().shape)\n",
    "\n",
    "def reverse_transform(inp):\n",
    "    inp = inp.numpy()\n",
    "    inp = np.moveaxis(inp, -1, 0)\n",
    "    inp = np.moveaxis(inp, -1, 0)\n",
    "    input_asarray = np.clip(inp, 0, 1)\n",
    "    input_asarray = (input_asarray * 255).astype(np.uint8)\n",
    "    return input_asarray\n",
    "\n",
    "# Change channel-order and make 3 channels for matplot\n",
    "input_images_rgb = [reverse_transform(x) for x in true_inputs]\n",
    "\n",
    "# Map each channel (i.e. class) to each color\n",
    "target_masks_rgb = [helper.masks_to_colorimg(x.cpu(), \"xD\") for x in true_labels]\n",
    "f, axarr = plt.subplots(1,2)\n",
    "axarr[0].imshow(input_images_rgb[0])\n",
    "axarr[1].imshow(target_masks_rgb[0])"
   ]
  },
  {
   "cell_type": "markdown",
   "metadata": {},
   "source": [
    "## MODEL UNET"
   ]
  },
  {
   "cell_type": "code",
   "execution_count": 4,
   "metadata": {},
   "outputs": [
    {
     "name": "stdout",
     "output_type": "stream",
     "text": [
      "Out: torch.Size([1, 4, 320, 480])\n"
     ]
    }
   ],
   "source": [
    "import torch\n",
    "from unet import *\n",
    "model = UNet(in_channels=3,\n",
    "             out_channels=4,\n",
    "             n_blocks=6,\n",
    "             start_filters=32,\n",
    "             activation='relu',\n",
    "             normalization='batch',\n",
    "             conv_mode='same',\n",
    "             dim=2).cuda()\n",
    "\n",
    "x = torch.randn(size=(1, 3, 320, 480), dtype=torch.float32).cuda()\n",
    "\n",
    "with torch.no_grad():\n",
    "    out = model(x)\n",
    "\n",
    "print(f'Out: {out.shape}')"
   ]
  },
  {
   "cell_type": "code",
   "execution_count": null,
   "metadata": {},
   "outputs": [
    {
     "name": "stdout",
     "output_type": "stream",
     "text": [
      "----------------------------------------------------------------\n",
      "        Layer (type)               Output Shape         Param #\n",
      "================================================================\n",
      "            Conv2d-1         [-1, 32, 320, 480]             896\n",
      "              ReLU-2         [-1, 32, 320, 480]               0\n",
      "       BatchNorm2d-3         [-1, 32, 320, 480]              64\n",
      "            Conv2d-4         [-1, 32, 320, 480]           9,248\n",
      "              ReLU-5         [-1, 32, 320, 480]               0\n",
      "       BatchNorm2d-6         [-1, 32, 320, 480]              64\n",
      "         MaxPool2d-7         [-1, 32, 160, 240]               0\n",
      "         DownBlock-8  [[-1, 32, 160, 240], [-1, 32, 320, 480]]               0\n",
      "            Conv2d-9         [-1, 64, 160, 240]          18,496\n",
      "             ReLU-10         [-1, 64, 160, 240]               0\n",
      "      BatchNorm2d-11         [-1, 64, 160, 240]             128\n",
      "           Conv2d-12         [-1, 64, 160, 240]          36,928\n",
      "             ReLU-13         [-1, 64, 160, 240]               0\n",
      "      BatchNorm2d-14         [-1, 64, 160, 240]             128\n",
      "        MaxPool2d-15          [-1, 64, 80, 120]               0\n",
      "        DownBlock-16  [[-1, 64, 80, 120], [-1, 64, 160, 240]]               0\n",
      "           Conv2d-17         [-1, 128, 80, 120]          73,856\n",
      "             ReLU-18         [-1, 128, 80, 120]               0\n",
      "      BatchNorm2d-19         [-1, 128, 80, 120]             256\n",
      "           Conv2d-20         [-1, 128, 80, 120]         147,584\n",
      "             ReLU-21         [-1, 128, 80, 120]               0\n",
      "      BatchNorm2d-22         [-1, 128, 80, 120]             256\n",
      "        MaxPool2d-23          [-1, 128, 40, 60]               0\n",
      "        DownBlock-24  [[-1, 128, 40, 60], [-1, 128, 80, 120]]               0\n",
      "           Conv2d-25          [-1, 256, 40, 60]         295,168\n",
      "             ReLU-26          [-1, 256, 40, 60]               0\n",
      "      BatchNorm2d-27          [-1, 256, 40, 60]             512\n",
      "           Conv2d-28          [-1, 256, 40, 60]         590,080\n",
      "             ReLU-29          [-1, 256, 40, 60]               0\n",
      "      BatchNorm2d-30          [-1, 256, 40, 60]             512\n",
      "        MaxPool2d-31          [-1, 256, 20, 30]               0\n",
      "        DownBlock-32  [[-1, 256, 20, 30], [-1, 256, 40, 60]]               0\n",
      "           Conv2d-33          [-1, 512, 20, 30]       1,180,160\n",
      "             ReLU-34          [-1, 512, 20, 30]               0\n",
      "      BatchNorm2d-35          [-1, 512, 20, 30]           1,024\n",
      "           Conv2d-36          [-1, 512, 20, 30]       2,359,808\n",
      "             ReLU-37          [-1, 512, 20, 30]               0\n",
      "      BatchNorm2d-38          [-1, 512, 20, 30]           1,024\n",
      "        MaxPool2d-39          [-1, 512, 10, 15]               0\n",
      "        DownBlock-40  [[-1, 512, 10, 15], [-1, 512, 20, 30]]               0\n",
      "           Conv2d-41         [-1, 1024, 10, 15]       4,719,616\n",
      "             ReLU-42         [-1, 1024, 10, 15]               0\n",
      "      BatchNorm2d-43         [-1, 1024, 10, 15]           2,048\n",
      "           Conv2d-44         [-1, 1024, 10, 15]       9,438,208\n",
      "             ReLU-45         [-1, 1024, 10, 15]               0\n",
      "      BatchNorm2d-46         [-1, 1024, 10, 15]           2,048\n",
      "        DownBlock-47  [[-1, 1024, 10, 15], [-1, 1024, 10, 15]]               0\n",
      "  ConvTranspose2d-48          [-1, 512, 20, 30]       2,097,664\n",
      "             ReLU-49          [-1, 512, 20, 30]               0\n",
      "      BatchNorm2d-50          [-1, 512, 20, 30]           1,024\n",
      "      Concatenate-51         [-1, 1024, 20, 30]               0\n",
      "           Conv2d-52          [-1, 512, 20, 30]       4,719,104\n",
      "             ReLU-53          [-1, 512, 20, 30]               0\n",
      "      BatchNorm2d-54          [-1, 512, 20, 30]           1,024\n",
      "           Conv2d-55          [-1, 512, 20, 30]       2,359,808\n",
      "             ReLU-56          [-1, 512, 20, 30]               0\n",
      "      BatchNorm2d-57          [-1, 512, 20, 30]           1,024\n",
      "          UpBlock-58          [-1, 512, 20, 30]               0\n",
      "  ConvTranspose2d-59          [-1, 256, 40, 60]         524,544\n",
      "             ReLU-60          [-1, 256, 40, 60]               0\n",
      "      BatchNorm2d-61          [-1, 256, 40, 60]             512\n",
      "      Concatenate-62          [-1, 512, 40, 60]               0\n",
      "           Conv2d-63          [-1, 256, 40, 60]       1,179,904\n",
      "             ReLU-64          [-1, 256, 40, 60]               0\n",
      "      BatchNorm2d-65          [-1, 256, 40, 60]             512\n",
      "           Conv2d-66          [-1, 256, 40, 60]         590,080\n",
      "             ReLU-67          [-1, 256, 40, 60]               0\n",
      "      BatchNorm2d-68          [-1, 256, 40, 60]             512\n",
      "          UpBlock-69          [-1, 256, 40, 60]               0\n",
      "  ConvTranspose2d-70         [-1, 128, 80, 120]         131,200\n",
      "             ReLU-71         [-1, 128, 80, 120]               0\n",
      "      BatchNorm2d-72         [-1, 128, 80, 120]             256\n",
      "      Concatenate-73         [-1, 256, 80, 120]               0\n",
      "           Conv2d-74         [-1, 128, 80, 120]         295,040\n",
      "             ReLU-75         [-1, 128, 80, 120]               0\n",
      "      BatchNorm2d-76         [-1, 128, 80, 120]             256\n",
      "           Conv2d-77         [-1, 128, 80, 120]         147,584\n",
      "             ReLU-78         [-1, 128, 80, 120]               0\n",
      "      BatchNorm2d-79         [-1, 128, 80, 120]             256\n",
      "          UpBlock-80         [-1, 128, 80, 120]               0\n",
      "  ConvTranspose2d-81         [-1, 64, 160, 240]          32,832\n",
      "             ReLU-82         [-1, 64, 160, 240]               0\n",
      "      BatchNorm2d-83         [-1, 64, 160, 240]             128\n",
      "      Concatenate-84        [-1, 128, 160, 240]               0\n",
      "           Conv2d-85         [-1, 64, 160, 240]          73,792\n",
      "             ReLU-86         [-1, 64, 160, 240]               0\n",
      "      BatchNorm2d-87         [-1, 64, 160, 240]             128\n",
      "           Conv2d-88         [-1, 64, 160, 240]          36,928\n",
      "             ReLU-89         [-1, 64, 160, 240]               0\n",
      "      BatchNorm2d-90         [-1, 64, 160, 240]             128\n",
      "          UpBlock-91         [-1, 64, 160, 240]               0\n",
      "  ConvTranspose2d-92         [-1, 32, 320, 480]           8,224\n",
      "             ReLU-93         [-1, 32, 320, 480]               0\n",
      "      BatchNorm2d-94         [-1, 32, 320, 480]              64\n",
      "      Concatenate-95         [-1, 64, 320, 480]               0\n",
      "           Conv2d-96         [-1, 32, 320, 480]          18,464\n",
      "             ReLU-97         [-1, 32, 320, 480]               0\n",
      "      BatchNorm2d-98         [-1, 32, 320, 480]              64\n",
      "           Conv2d-99         [-1, 32, 320, 480]           9,248\n",
      "            ReLU-100         [-1, 32, 320, 480]               0\n",
      "     BatchNorm2d-101         [-1, 32, 320, 480]              64\n",
      "         UpBlock-102         [-1, 32, 320, 480]               0\n",
      "          Conv2d-103          [-1, 4, 320, 480]             132\n",
      "================================================================\n",
      "Total params: 31,108,612\n",
      "Trainable params: 31,108,612\n",
      "Non-trainable params: 0\n",
      "----------------------------------------------------------------\n",
      "Input size (MB): 1.76\n",
      "Forward/backward pass size (MB): 61558662.30\n",
      "Params size (MB): 118.67\n",
      "Estimated Total Size (MB): 61558782.73\n",
      "----------------------------------------------------------------\n"
     ]
    }
   ],
   "source": [
    "from torchsummary import summary\n",
    "summary = summary(model, (3, 320, 480))\n",
    "\n"
   ]
  },
  {
   "cell_type": "code",
   "execution_count": null,
   "metadata": {},
   "outputs": [
    {
     "name": "stdout",
     "output_type": "stream",
     "text": [
      "Level 1: 960.0\n",
      "Level 2: 480.0\n",
      "Level 3: 240.0\n",
      "Level 4: 120.0\n",
      "Level 5: 60.0\n",
      "Level 6: 30.0\n",
      "Level 7: 15.0\n",
      "Max-level: 7\n"
     ]
    }
   ],
   "source": [
    "shape = 1920\n",
    "\n",
    "\n",
    "def compute_max_depth(shape, max_depth=10, print_out=True):\n",
    "    shapes = []\n",
    "    shapes.append(shape)\n",
    "    for level in range(1, max_depth):\n",
    "        if shape % 2 ** level == 0 and shape / 2 ** level > 1:\n",
    "            shapes.append(shape / 2 ** level)\n",
    "            if print_out:\n",
    "                print(f'Level {level}: {shape / 2 ** level}')\n",
    "        else:\n",
    "            if print_out:\n",
    "                print(f'Max-level: {level - 1}')\n",
    "            break\n",
    "\n",
    "    return shapes\n",
    "\n",
    "\n",
    "out = compute_max_depth(shape, print_out=True, max_depth=10)\n"
   ]
  },
  {
   "cell_type": "code",
   "execution_count": null,
   "metadata": {},
   "outputs": [
    {
     "data": {
      "text/plain": [
       "{256: [256, 128.0, 64.0, 32.0, 16.0, 8.0, 4.0, 2.0],\n",
       " 384: [384, 192.0, 96.0, 48.0, 24.0, 12.0, 6.0, 3.0],\n",
       " 512: [512, 256.0, 128.0, 64.0, 32.0, 16.0, 8.0, 4.0]}"
      ]
     },
     "execution_count": 7,
     "metadata": {},
     "output_type": "execute_result"
    }
   ],
   "source": [
    "low = 10\n",
    "high = 512\n",
    "depth = 8\n",
    "\n",
    "\n",
    "def compute_possible_shapes(low, high, depth):\n",
    "    possible_shapes = {}\n",
    "    for shape in range(low, high + 1):\n",
    "        shapes = compute_max_depth(shape,\n",
    "                                   max_depth=depth,\n",
    "                                   print_out=False)\n",
    "        if len(shapes) == depth:\n",
    "            possible_shapes[shape] = shapes\n",
    "\n",
    "    return possible_shapes\n",
    "possible_shapes = compute_possible_shapes(low, high, depth)\n",
    "possible_shapes\n"
   ]
  },
  {
   "cell_type": "markdown",
   "metadata": {},
   "source": [
    "# TRAIN ET RUN"
   ]
  },
  {
   "cell_type": "code",
   "execution_count": null,
   "metadata": {},
   "outputs": [
    {
     "data": {
      "application/vnd.jupyter.widget-view+json": {
       "model_id": "675deb86001846478d9be3c2c8219c77",
       "version_major": 2,
       "version_minor": 0
      },
      "text/plain": [
       "HBox(children=(FloatProgress(value=0.0, description='Progress', max=10.0, style=ProgressStyle(description_widt…"
      ]
     },
     "metadata": {},
     "output_type": "display_data"
    },
    {
     "data": {
      "application/vnd.jupyter.widget-view+json": {
       "model_id": "235b0e78872b4ff39e63d7e49d56b375",
       "version_major": 2,
       "version_minor": 0
      },
      "text/plain": [
       "HBox(children=(FloatProgress(value=0.0, description='Training', max=1109.0, style=ProgressStyle(description_wi…"
      ]
     },
     "metadata": {},
     "output_type": "display_data"
    },
    {
     "name": "stdout",
     "output_type": "stream",
     "text": [
      "[0.5049351434163729]\n"
     ]
    },
    {
     "data": {
      "application/vnd.jupyter.widget-view+json": {
       "model_id": "82b708d144904215ba2e86e6e4000a05",
       "version_major": 2,
       "version_minor": 0
      },
      "text/plain": [
       "HBox(children=(FloatProgress(value=0.0, description='Validation', max=278.0, style=ProgressStyle(description_w…"
      ]
     },
     "metadata": {},
     "output_type": "display_data"
    },
    {
     "data": {
      "application/vnd.jupyter.widget-view+json": {
       "model_id": "66452a7cb29f4cf2872d4911f392b8d0",
       "version_major": 2,
       "version_minor": 0
      },
      "text/plain": [
       "HBox(children=(FloatProgress(value=0.0, description='Training', max=1109.0, style=ProgressStyle(description_wi…"
      ]
     },
     "metadata": {},
     "output_type": "display_data"
    },
    {
     "name": "stdout",
     "output_type": "stream",
     "text": [
      "[0.5049351434163729, 0.399446021285113]\n"
     ]
    },
    {
     "data": {
      "application/vnd.jupyter.widget-view+json": {
       "model_id": "193ebdf296dc466e97eea73a4f183f9e",
       "version_major": 2,
       "version_minor": 0
      },
      "text/plain": [
       "HBox(children=(FloatProgress(value=0.0, description='Validation', max=278.0, style=ProgressStyle(description_w…"
      ]
     },
     "metadata": {},
     "output_type": "display_data"
    },
    {
     "data": {
      "application/vnd.jupyter.widget-view+json": {
       "model_id": "f4055bcae5634501be4d60be08b3e5da",
       "version_major": 2,
       "version_minor": 0
      },
      "text/plain": [
       "HBox(children=(FloatProgress(value=0.0, description='Training', max=1109.0, style=ProgressStyle(description_wi…"
      ]
     },
     "metadata": {},
     "output_type": "display_data"
    },
    {
     "name": "stdout",
     "output_type": "stream",
     "text": [
      "[0.5049351434163729, 0.399446021285113, 0.3872392166026333]\n"
     ]
    },
    {
     "data": {
      "application/vnd.jupyter.widget-view+json": {
       "model_id": "6c94eedc8d584b40b405a2f5dce2dd88",
       "version_major": 2,
       "version_minor": 0
      },
      "text/plain": [
       "HBox(children=(FloatProgress(value=0.0, description='Validation', max=278.0, style=ProgressStyle(description_w…"
      ]
     },
     "metadata": {},
     "output_type": "display_data"
    },
    {
     "data": {
      "application/vnd.jupyter.widget-view+json": {
       "model_id": "68a37632998d4215b60ab2460b272db1",
       "version_major": 2,
       "version_minor": 0
      },
      "text/plain": [
       "HBox(children=(FloatProgress(value=0.0, description='Training', max=1109.0, style=ProgressStyle(description_wi…"
      ]
     },
     "metadata": {},
     "output_type": "display_data"
    },
    {
     "name": "stdout",
     "output_type": "stream",
     "text": [
      "[0.5049351434163729, 0.399446021285113, 0.3872392166026333, 0.3718106218347472]\n"
     ]
    },
    {
     "data": {
      "application/vnd.jupyter.widget-view+json": {
       "model_id": "170aab4670cb48f9bc887b3303ae77a8",
       "version_major": 2,
       "version_minor": 0
      },
      "text/plain": [
       "HBox(children=(FloatProgress(value=0.0, description='Validation', max=278.0, style=ProgressStyle(description_w…"
      ]
     },
     "metadata": {},
     "output_type": "display_data"
    },
    {
     "data": {
      "application/vnd.jupyter.widget-view+json": {
       "model_id": "ef1c64e1441e4ee6b10c291bc012d574",
       "version_major": 2,
       "version_minor": 0
      },
      "text/plain": [
       "HBox(children=(FloatProgress(value=0.0, description='Training', max=1109.0, style=ProgressStyle(description_wi…"
      ]
     },
     "metadata": {},
     "output_type": "display_data"
    },
    {
     "name": "stdout",
     "output_type": "stream",
     "text": [
      "[0.5049351434163729, 0.399446021285113, 0.3872392166026333, 0.3718106218347472, 0.3567952465591826]\n"
     ]
    },
    {
     "data": {
      "application/vnd.jupyter.widget-view+json": {
       "model_id": "7c6091b51a8341b2b55ba58a5f51397a",
       "version_major": 2,
       "version_minor": 0
      },
      "text/plain": [
       "HBox(children=(FloatProgress(value=0.0, description='Validation', max=278.0, style=ProgressStyle(description_w…"
      ]
     },
     "metadata": {},
     "output_type": "display_data"
    },
    {
     "data": {
      "application/vnd.jupyter.widget-view+json": {
       "model_id": "8c1f0e1d5f494b4ab3056a437b79bf76",
       "version_major": 2,
       "version_minor": 0
      },
      "text/plain": [
       "HBox(children=(FloatProgress(value=0.0, description='Training', max=1109.0, style=ProgressStyle(description_wi…"
      ]
     },
     "metadata": {},
     "output_type": "display_data"
    }
   ],
   "source": [
    "from train import Trainer\n",
    "\n",
    "# device\n",
    "if torch.cuda.is_available():\n",
    "    device = torch.device('cuda')\n",
    "else:\n",
    "    torch.device('cpu')\n",
    "\n",
    "# criterion\n",
    "criterion = torch.nn.BCEWithLogitsLoss()\n",
    "\n",
    "# optimizer\n",
    "optimizer = torch.optim.SGD(model.parameters(), lr=0.01)\n",
    "\n",
    "# trainer\n",
    "trainer = Trainer(model=model,\n",
    "                  device=device,\n",
    "                  criterion=criterion,\n",
    "                  optimizer=optimizer,\n",
    "                  training_DataLoader=dataloader_training,\n",
    "                  validation_DataLoader=dataloader_validation,\n",
    "                  lr_scheduler=None,\n",
    "                  epochs=10,\n",
    "                  epoch=0,\n",
    "                  notebook=True)\n",
    "\n",
    "# start training\n",
    "training_losses, validation_losses, lr_rates = trainer.run_trainer()\n"
   ]
  },
  {
   "cell_type": "markdown",
   "metadata": {},
   "source": [
    "# SAVE THE MODEL"
   ]
  },
  {
   "cell_type": "code",
   "execution_count": null,
   "metadata": {},
   "outputs": [],
   "source": [
    "model_name =  'cloud.pt'\n",
    "torch.save(model.state_dict(), pathlib.Path.cwd() / model_name)"
   ]
  },
  {
   "cell_type": "markdown",
   "metadata": {},
   "source": [
    "# LEARNING RATE"
   ]
  },
  {
   "cell_type": "code",
   "execution_count": null,
   "metadata": {},
   "outputs": [],
   "source": [
    "from lr_rate_finder import *\n",
    "lrf = LearningRateFinder(model, criterion, optimizer, device)\n",
    "lrf.fit(dataloader_training, steps=1000)"
   ]
  },
  {
   "cell_type": "code",
   "execution_count": null,
   "metadata": {},
   "outputs": [],
   "source": [
    "lrf.plot()\n"
   ]
  },
  {
   "cell_type": "code",
   "execution_count": null,
   "metadata": {},
   "outputs": [],
   "source": [
    "%matplotlib inline\n",
    "\n",
    "import matplotlib.pyplot as plt\n",
    "fig = plt.show(training_losses, validation_losses)\n",
    "print(training_losses)\n",
    "print(validation_losses)"
   ]
  },
  {
   "cell_type": "code",
   "execution_count": null,
   "metadata": {},
   "outputs": [],
   "source": [
    "from visual import plot_training\n",
    "fig = plot_training(training_losses, validation_losses, lr_rates, gaussian=True, sigma=1, figsize=(10, 4))"
   ]
  },
  {
   "cell_type": "code",
   "execution_count": null,
   "metadata": {},
   "outputs": [],
   "source": [
    "import math\n",
    "from sklearn.model_selection import train_test_split\n",
    "\n",
    "import pathlib\n",
    "\n",
    "random_seed = 42\n",
    "\n",
    "# root directory\n",
    "root = pathlib.Path.cwd() / 'understanding_cloud_organization'\n",
    "def get_filenames_of_path(path: pathlib.Path, ext: str = '*'):\n",
    "    \"\"\"Returns a list of files in a directory/path. Uses pathlib.\"\"\"\n",
    "    filenames = [file for file in path.glob(ext) if file.is_file()]\n",
    "    return filenames\n",
    "\n",
    "# input and target files\n",
    "inputs = get_filenames_of_path(root / 'train_images_320')\n",
    "targets = get_filenames_of_path(root / 'train_images_320_Black_Fish_Gravel_Sugar_Flower')\n",
    "\n",
    "model.eval()   # Set model to evaluate mode\n",
    "\n",
    "train_size = 0.8  # 80:20 split\n",
    "inputs_train, inputs_valid = train_test_split(\n",
    "    inputs,\n",
    "    random_state=random_seed,\n",
    "    train_size=train_size,\n",
    "    shuffle=True)\n",
    "\n",
    "test_dataset = SegmentationDataSet(inputs=inputs_train,\n",
    "                                    targets=targets_train,\n",
    "                                    transform=transforms)\n",
    "\n",
    "test_loader = SegmentationDataSet(inputs=inputs_train,\n",
    "                                    targets=targets_train,\n",
    "                                    transform=transforms)\n",
    "\n",
    "# dataloader training\n",
    "dataloader_training = DataLoader(dataset=dataset_train,\n",
    "                                 batch_size=2,\n",
    "                                 shuffle=False)\n",
    "# dataloader validation\n",
    "dataloader_validation = DataLoader(dataset=dataset_valid,\n",
    "                                   batch_size=2,\n",
    "                                   shuffle=False)\n",
    "        \n",
    "x, y = next(iter(dataloader_training))\n",
    "true_inputs = x.to(device)\n",
    "true_labels = y.to(device)\n",
    "\n",
    "pred = model(true_inputs).cpu()\n",
    "out_pred = torch.softmax(pred, dim=1).detach()\n",
    "\n",
    "\n",
    "true_inputs = true_inputs.cpu()\n",
    "true_labels = true_labels.cpu()\n",
    "\n",
    "\n",
    "\n",
    "import torchvision.utils\n",
    "from skimage.io import imread\n",
    "import numpy as np\n",
    "import helper\n",
    "\n",
    "def reverse_transform(inp):\n",
    "    inp = inp.numpy()\n",
    "    inp = np.moveaxis(inp, -1, 0)\n",
    "    inp = np.moveaxis(inp, -1, 0)\n",
    "    input_asarray = np.clip(inp, 0, 1)\n",
    "    input_asarray = (input_asarray * 255).astype(np.uint8)\n",
    "    return input_asarray\n",
    "\n",
    "# Change channel-order and make 3 channels for matplot\n",
    "input_images_rgb = [reverse_transform(x) for x in true_inputs]\n",
    "\n",
    "# Map each channel (i.e. class) to each color\n",
    "target_masks_rgb = [helper.masks_to_colorimg(x.cpu(), \"xD\") for x in true_labels]\n",
    "\n",
    "pred_rgb = [helper.masks_to_colorimg(x, \"xD\") for x in out_pred]\n",
    "\n",
    "f, axarr = plt.subplots(2,3)\n",
    "axarr[0][0].imshow(input_images_rgb[0])\n",
    "axarr[0][1].imshow(target_masks_rgb[0])\n",
    "axarr[0][2].imshow(pred_rgb[0])\n",
    "axarr[1][0].imshow(input_images_rgb[1])\n",
    "axarr[1][1].imshow(target_masks_rgb[1])\n",
    "axarr[1][2].imshow(pred_rgb[1])"
   ]
  },
  {
   "cell_type": "code",
   "execution_count": null,
   "metadata": {},
   "outputs": [],
   "source": []
  },
  {
   "cell_type": "code",
   "execution_count": null,
   "metadata": {},
   "outputs": [],
   "source": []
  }
 ],
 "metadata": {
  "kernelspec": {
   "display_name": "Python 3",
   "language": "python",
   "name": "python3"
  },
  "language_info": {
   "codemirror_mode": {
    "name": "ipython",
    "version": 3
   },
   "file_extension": ".py",
   "mimetype": "text/x-python",
   "name": "python",
   "nbconvert_exporter": "python",
   "pygments_lexer": "ipython3",
   "version": "3.6.9"
  }
 },
 "nbformat": 4,
 "nbformat_minor": 2
}
