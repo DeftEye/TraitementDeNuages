{
 "cells": [
  {
   "cell_type": "markdown",
   "metadata": {},
   "source": [
    "# Preprocessing Pandas"
   ]
  },
  {
   "cell_type": "code",
   "execution_count": null,
   "metadata": {},
   "outputs": [],
   "source": [
    "import pandas as pd\n",
    "sample_submission = pd.read_csv(\"understanding_cloud_organization/sample_submission.csv\")\n",
    "train = pd.read_csv(\"understanding_cloud_organization/train_320.csv\")"
   ]
  },
  {
   "cell_type": "code",
   "execution_count": null,
   "metadata": {},
   "outputs": [],
   "source": [
    "train['Image_name'] = train['Image_Label'].apply(lambda x: x.split('_')[0])\n",
    "train['Label_name'] = train['Image_Label'].apply(lambda x: x.split('_')[1])\n",
    "train.drop('Image_Label',axis=1,inplace=True)\n",
    "train = train.pivot('Image_name','Label_name','EncodedPixels')"
   ]
  },
  {
   "cell_type": "code",
   "execution_count": null,
   "metadata": {},
   "outputs": [],
   "source": [
    "train.head()"
   ]
  },
  {
   "cell_type": "markdown",
   "metadata": {},
   "source": [
    "# Affichage Image"
   ]
  },
  {
   "cell_type": "code",
   "execution_count": null,
   "metadata": {},
   "outputs": [],
   "source": [
    "%matplotlib inline\n",
    "\n",
    "import matplotlib.pyplot as plt\n",
    "import matplotlib.image as mpimg\n",
    "import numpy as np\n",
    "\n",
    "img=mpimg.imread('./understanding_cloud_organization/train_images_320/009e2f3.jpg')\n",
    "img2=mpimg.imread('./understanding_cloud_organization/train_images_320_Black_Fish_Gravel_Sugar_Flower/009e2f3.jpg')\n",
    "\n",
    "print(img)\n",
    "\n",
    "f, axarr = plt.subplots(1,2)\n",
    "axarr[0].imshow(img)\n",
    "axarr[1].imshow(img2)\n",
    "\n"
   ]
  },
  {
   "cell_type": "markdown",
   "metadata": {},
   "source": [
    "# DATA LOADING"
   ]
  },
  {
   "cell_type": "code",
   "execution_count": null,
   "metadata": {},
   "outputs": [],
   "source": [
    "from transformations import MoveAxis, Normalize01"
   ]
  },
  {
   "cell_type": "code",
   "execution_count": 6,
   "metadata": {},
   "outputs": [
    {
     "name": "stderr",
     "output_type": "stream",
     "text": [
      "/usr/lib/python3/dist-packages/sklearn/model_selection/_split.py:2026: FutureWarning: From version 0.21, test_size will always complement train_size unless both are specified.\n",
      "  FutureWarning)\n"
     ]
    }
   ],
   "source": [
    "from transformations import Compose, DenseTarget\n",
    "from transformations import MoveAxis, Normalize01\n",
    "from customdatasets import SegmentationDataSet\n",
    "from torch.utils.data import DataLoader\n",
    "from sklearn.model_selection import train_test_split\n",
    "import pathlib\n",
    "\n",
    "# root directory\n",
    "root = pathlib.Path.cwd() / 'understanding_cloud_organization'\n",
    "def get_filenames_of_path(path: pathlib.Path, ext: str = '*'):\n",
    "    \"\"\"Returns a list of files in a directory/path. Uses pathlib.\"\"\"\n",
    "    filenames = [file for file in path.glob(ext) if file.is_file()]\n",
    "    return filenames\n",
    "\n",
    "# input and target files\n",
    "inputs = get_filenames_of_path(root / 'train_images_320')\n",
    "targets = get_filenames_of_path(root / 'train_images_320_Black_Fish_Gravel_Sugar_Flower')\n",
    "    \n",
    "\n",
    "# training transformations and augmentations\n",
    "transforms = Compose([\n",
    "    DenseTarget(),\n",
    "    Normalize01(),\n",
    "    MoveAxis(),\n",
    "])\n",
    "\n",
    "# random seed\n",
    "random_seed = 42\n",
    "\n",
    "# split dataset into training set and validation set\n",
    "train_size = 0.8  # 80:20 split\n",
    "\n",
    "inputs_train, inputs_valid = train_test_split(\n",
    "    inputs,\n",
    "    random_state=random_seed,\n",
    "    train_size=train_size,\n",
    "    shuffle=True)\n",
    "\n",
    "\n",
    "targets_train, targets_valid = train_test_split(\n",
    "    targets,\n",
    "    random_state=random_seed,\n",
    "    train_size=train_size,\n",
    "    shuffle=True)\n",
    "\n",
    "# dataset training\n",
    "dataset_train = SegmentationDataSet(inputs=inputs_train,\n",
    "                                    targets=targets_train,\n",
    "                                    transform=transforms)\n",
    "\n",
    "# dataset validation\n",
    "dataset_valid = SegmentationDataSet(inputs=inputs_valid,\n",
    "                                    targets=targets_valid,\n",
    "                                    transform=transforms)\n",
    "\n",
    "# dataloader training\n",
    "dataloader_training = DataLoader(dataset=dataset_train,\n",
    "                                 batch_size=4,\n",
    "                                 shuffle=False)\n",
    "# dataloader validation\n",
    "dataloader_validation = DataLoader(dataset=dataset_valid,\n",
    "                                   batch_size=4,\n",
    "                                   shuffle=False)\n",
    "\n"
   ]
  },
  {
   "cell_type": "code",
   "execution_count": 7,
   "metadata": {},
   "outputs": [
    {
     "name": "stdout",
     "output_type": "stream",
     "text": [
      "x = shape: torch.Size([4, 3, 320, 480]); type: torch.float32\n",
      "x = min: 0.0; max: 1.0\n",
      "y = shape: torch.Size([4, 4, 320, 480]); class: tensor([0., 1.]); type: torch.float32\n",
      "y = min: 0.0; max: 1.0\n"
     ]
    }
   ],
   "source": [
    "x, y = next(iter(dataloader_training))\n",
    "w, z = next(iter(dataloader_training))\n",
    "print(f'x = shape: {x.shape}; type: {x.dtype}')\n",
    "print(f'x = min: {x.min()}; max: {x.max()}')\n",
    "print(f'y = shape: {y.shape}; class: {y.unique()}; type: {y.dtype}')\n",
    "print(f'y = min: {y.min()}; max: {y.max()}')\n"
   ]
  },
  {
   "cell_type": "code",
   "execution_count": 8,
   "metadata": {},
   "outputs": [
    {
     "name": "stdout",
     "output_type": "stream",
     "text": [
      "[[[0. 0. 0. ... 0. 0. 0.]\n",
      "  [0. 0. 0. ... 0. 0. 0.]\n",
      "  [0. 0. 0. ... 0. 0. 0.]\n",
      "  ...\n",
      "  [0. 0. 0. ... 0. 0. 0.]\n",
      "  [0. 0. 0. ... 0. 0. 0.]\n",
      "  [0. 0. 0. ... 0. 0. 0.]]\n",
      "\n",
      " [[0. 0. 0. ... 0. 0. 0.]\n",
      "  [0. 0. 0. ... 0. 0. 0.]\n",
      "  [0. 0. 0. ... 0. 0. 0.]\n",
      "  ...\n",
      "  [0. 0. 0. ... 0. 0. 0.]\n",
      "  [0. 0. 0. ... 0. 0. 0.]\n",
      "  [0. 0. 0. ... 0. 0. 0.]]\n",
      "\n",
      " [[0. 0. 0. ... 0. 0. 0.]\n",
      "  [0. 0. 0. ... 0. 0. 0.]\n",
      "  [0. 0. 0. ... 0. 0. 0.]\n",
      "  ...\n",
      "  [0. 0. 0. ... 0. 0. 0.]\n",
      "  [0. 0. 0. ... 0. 0. 0.]\n",
      "  [0. 0. 0. ... 0. 0. 0.]]\n",
      "\n",
      " [[0. 0. 0. ... 0. 0. 0.]\n",
      "  [0. 0. 0. ... 0. 0. 0.]\n",
      "  [0. 0. 0. ... 0. 0. 0.]\n",
      "  ...\n",
      "  [0. 0. 0. ... 0. 0. 0.]\n",
      "  [0. 0. 0. ... 0. 0. 0.]\n",
      "  [0. 0. 0. ... 0. 0. 0.]]]\n",
      "(4, 320, 480)\n",
      "[[[0.16078432 0.1882353  0.2627451 ]\n",
      "  [0.10980392 0.13725491 0.21176471]\n",
      "  [0.44705883 0.47058824 0.5568628 ]\n",
      "  ...\n",
      "  [0.03137255 0.06666667 0.1882353 ]\n",
      "  [0.03137255 0.06666667 0.18039216]\n",
      "  [0.03137255 0.06666667 0.18039216]]\n",
      "\n",
      " [[0.05098039 0.07450981 0.16078432]\n",
      "  [0.11372549 0.13725491 0.22352941]\n",
      "  [0.11372549 0.13725491 0.23137255]\n",
      "  ...\n",
      "  [0.03529412 0.07058824 0.19215687]\n",
      "  [0.03529412 0.07058824 0.18431373]\n",
      "  [0.03529412 0.07058824 0.18431373]]\n",
      "\n",
      " [[0.07843138 0.10196079 0.20392157]\n",
      "  [0.10588235 0.12941177 0.23137255]\n",
      "  [0.05490196 0.07843138 0.18039216]\n",
      "  ...\n",
      "  [0.03921569 0.07450981 0.19607843]\n",
      "  [0.03529412 0.07058824 0.19215687]\n",
      "  [0.03529412 0.07058824 0.18431373]]\n",
      "\n",
      " ...\n",
      "\n",
      " [[0.21960784 0.23921569 0.3137255 ]\n",
      "  [0.15294118 0.17254902 0.24705882]\n",
      "  [0.16078432 0.18039216 0.25490198]\n",
      "  ...\n",
      "  [0.0627451  0.07843138 0.18431373]\n",
      "  [0.0627451  0.07843138 0.18431373]\n",
      "  [0.23529412 0.2509804  0.35686275]]\n",
      "\n",
      " [[0.18039216 0.2        0.27450982]\n",
      "  [0.12156863 0.14117648 0.21568628]\n",
      "  [0.12941177 0.14901961 0.22352941]\n",
      "  ...\n",
      "  [0.03921569 0.05490196 0.16078432]\n",
      "  [0.08235294 0.09803922 0.20392157]\n",
      "  [0.16470589 0.18039216 0.28627452]]\n",
      "\n",
      " [[0.14901961 0.16862746 0.24313726]\n",
      "  [0.22352941 0.24313726 0.31764707]\n",
      "  [0.10196079 0.12156863 0.19607843]\n",
      "  ...\n",
      "  [0.05098039 0.06666667 0.17254902]\n",
      "  [0.05882353 0.07450981 0.18039216]\n",
      "  [0.12941177 0.14509805 0.2509804 ]]]\n",
      "[[[0.61960787 0.6313726  0.5882353 ]\n",
      "  [0.87058824 0.88235295 0.84705883]\n",
      "  [0.7411765  0.7529412  0.7254902 ]\n",
      "  ...\n",
      "  [0.07058824 0.09803922 0.12941177]\n",
      "  [0.09411765 0.10980392 0.14509805]\n",
      "  [0.09019608 0.10588235 0.14117648]]\n",
      "\n",
      " [[0.96862745 0.9764706  0.972549  ]\n",
      "  [0.9647059  0.972549   0.96862745]\n",
      "  [0.5529412  0.5568628  0.5647059 ]\n",
      "  ...\n",
      "  [0.06666667 0.09411765 0.13333334]\n",
      "  [0.07058824 0.08627451 0.12156863]\n",
      "  [0.33333334 0.34901962 0.38431373]]\n",
      "\n",
      " [[0.75686276 0.75686276 0.79607844]\n",
      "  [0.54509807 0.54509807 0.58431375]\n",
      "  [0.29803923 0.29803923 0.3372549 ]\n",
      "  ...\n",
      "  [0.06666667 0.09411765 0.13333334]\n",
      "  [0.1254902  0.15294118 0.18431373]\n",
      "  [0.2627451  0.2901961  0.32156864]]\n",
      "\n",
      " ...\n",
      "\n",
      " [[0.33333334 0.35686275 0.41960785]\n",
      "  [0.40392157 0.42745098 0.49019608]\n",
      "  [0.24313726 0.26666668 0.32941177]\n",
      "  ...\n",
      "  [0.42745098 0.43137255 0.44705883]\n",
      "  [0.41568628 0.41960785 0.4392157 ]\n",
      "  [0.4117647  0.41568628 0.43529412]]\n",
      "\n",
      " [[0.05490196 0.07843138 0.14117648]\n",
      "  [0.19607843 0.21960784 0.28235295]\n",
      "  [0.09411765 0.11764706 0.18039216]\n",
      "  ...\n",
      "  [0.42745098 0.43137255 0.44705883]\n",
      "  [0.42352942 0.42745098 0.44313726]\n",
      "  [0.41960785 0.42352942 0.44313726]]\n",
      "\n",
      " [[0.09019608 0.11372549 0.1764706 ]\n",
      "  [0.1254902  0.14901961 0.21176471]\n",
      "  [0.15686275 0.18039216 0.24313726]\n",
      "  ...\n",
      "  [0.43137255 0.43529412 0.4509804 ]\n",
      "  [0.43137255 0.43529412 0.4509804 ]\n",
      "  [0.43137255 0.43529412 0.4509804 ]]]\n",
      "[[[0.03921569 0.0627451  0.1882353 ]\n",
      "  [0.05490196 0.07843138 0.20392157]\n",
      "  [0.03921569 0.0627451  0.1882353 ]\n",
      "  ...\n",
      "  [0.03137255 0.05098039 0.16470589]\n",
      "  [0.05490196 0.07058824 0.1764706 ]\n",
      "  [0.04705882 0.0627451  0.16078432]]\n",
      "\n",
      " [[0.05098039 0.07450981 0.2       ]\n",
      "  [0.04313726 0.06666667 0.19215687]\n",
      "  [0.04313726 0.06666667 0.19215687]\n",
      "  ...\n",
      "  [0.05490196 0.07450981 0.1882353 ]\n",
      "  [0.04705882 0.0627451  0.1764706 ]\n",
      "  [0.05882353 0.07450981 0.18039216]]\n",
      "\n",
      " [[0.05098039 0.07450981 0.2       ]\n",
      "  [0.03921569 0.0627451  0.1882353 ]\n",
      "  [0.06666667 0.09019608 0.21568628]\n",
      "  ...\n",
      "  [0.03137255 0.05098039 0.16862746]\n",
      "  [0.03921569 0.05882353 0.17254902]\n",
      "  [0.03137255 0.04705882 0.16078432]]\n",
      "\n",
      " ...\n",
      "\n",
      " [[0.47058824 0.5058824  0.4862745 ]\n",
      "  [0.4745098  0.50980395 0.49803922]\n",
      "  [0.5019608  0.5372549  0.53333336]\n",
      "  ...\n",
      "  [0.16862746 0.18039216 0.23921569]\n",
      "  [0.08235294 0.09411765 0.15294118]\n",
      "  [0.12156863 0.13333334 0.19215687]]\n",
      "\n",
      " [[0.627451   0.6666667  0.63529414]\n",
      "  [0.52156866 0.5568628  0.5372549 ]\n",
      "  [0.5372549  0.57254905 0.5686275 ]\n",
      "  ...\n",
      "  [0.1882353  0.2        0.25882354]\n",
      "  [0.13333334 0.14509805 0.20392157]\n",
      "  [0.1254902  0.13725491 0.19607843]]\n",
      "\n",
      " [[0.52156866 0.56078434 0.5294118 ]\n",
      "  [0.52156866 0.5568628  0.5372549 ]\n",
      "  [0.45882353 0.48235294 0.4745098 ]\n",
      "  ...\n",
      "  [0.10196079 0.11372549 0.17254902]\n",
      "  [0.24313726 0.25490198 0.3137255 ]\n",
      "  [0.11764706 0.12941177 0.1882353 ]]]\n",
      "[[[0.7058824  0.7176471  0.7372549 ]\n",
      "  [0.8156863  0.83137256 0.84313726]\n",
      "  [0.7254902  0.73333335 0.7294118 ]\n",
      "  ...\n",
      "  [0.09803922 0.11764706 0.19215687]\n",
      "  [0.09019608 0.10980392 0.18431373]\n",
      "  [0.07843138 0.09803922 0.17254902]]\n",
      "\n",
      " [[0.8627451  0.8666667  0.8745098 ]\n",
      "  [0.9137255  0.92156863 0.91764706]\n",
      "  [0.92941177 0.9372549  0.91764706]\n",
      "  ...\n",
      "  [0.09019608 0.10980392 0.18431373]\n",
      "  [0.08235294 0.10196079 0.1764706 ]\n",
      "  [0.09803922 0.11764706 0.19215687]]\n",
      "\n",
      " [[0.8        0.8        0.8       ]\n",
      "  [0.81960785 0.8235294  0.8039216 ]\n",
      "  [0.91764706 0.92156863 0.8901961 ]\n",
      "  ...\n",
      "  [0.09411765 0.11372549 0.1882353 ]\n",
      "  [0.11372549 0.13333334 0.20784314]\n",
      "  [0.08235294 0.10196079 0.1764706 ]]\n",
      "\n",
      " ...\n",
      "\n",
      " [[0.14509805 0.18431373 0.15294118]\n",
      "  [0.1254902  0.16470589 0.13333334]\n",
      "  [0.16078432 0.19607843 0.1764706 ]\n",
      "  ...\n",
      "  [0.3137255  0.33333334 0.35686275]\n",
      "  [0.35686275 0.3764706  0.4       ]\n",
      "  [0.2627451  0.2784314  0.3137255 ]]\n",
      "\n",
      " [[0.43137255 0.47058824 0.43529412]\n",
      "  [0.20784314 0.24705882 0.21568628]\n",
      "  [0.11764706 0.14117648 0.1254902 ]\n",
      "  ...\n",
      "  [0.42745098 0.44313726 0.47843137]\n",
      "  [0.27058825 0.28627452 0.32156864]\n",
      "  [0.2627451  0.2784314  0.3137255 ]]\n",
      "\n",
      " [[0.2        0.22745098 0.19607843]\n",
      "  [0.12156863 0.14901961 0.12156863]\n",
      "  [0.16078432 0.18431373 0.16862746]\n",
      "  ...\n",
      "  [0.44705883 0.4627451  0.49803922]\n",
      "  [0.2509804  0.26666668 0.3019608 ]\n",
      "  [0.3882353  0.40392157 0.4392157 ]]]\n"
     ]
    },
    {
     "data": {
      "text/plain": [
       "<matplotlib.image.AxesImage at 0x7f4c87d9c160>"
      ]
     },
     "execution_count": 8,
     "metadata": {},
     "output_type": "execute_result"
    },
    {
     "data": {
      "image/png": "[encoded data removed]",
      "text/plain": [
       "<Figure size 432x288 with 2 Axes>"
      ]
     },
     "metadata": {
      "needs_background": "light"
     },
     "output_type": "display_data"
    }
   ],
   "source": [
    "import torchvision.utils\n",
    "from skimage.io import imread\n",
    "import numpy as np\n",
    "import helper\n",
    "%matplotlib inline\n",
    "\n",
    "import matplotlib.pyplot as plt\n",
    "import matplotlib.image as mpimg\n",
    "\n",
    "x, y = next(iter(dataloader_training))\n",
    "\n",
    "true_inputs = x\n",
    "true_labels = y\n",
    "\n",
    "print(true_labels[0].numpy())\n",
    "print(true_labels[0].numpy().shape)\n",
    "\n",
    "def reverse_transform(inp):\n",
    "    inp = inp.numpy()\n",
    "    inp = np.moveaxis(inp, -1, 0)\n",
    "    inp = np.moveaxis(inp, -1, 0)\n",
    "    print(inp)\n",
    "    input_asarray = np.clip(inp, 0, 1)\n",
    "    input_asarray = (input_asarray * 255).astype(np.uint8)\n",
    "    return input_asarray\n",
    "\n",
    "# Change channel-order and make 3 channels for matplot\n",
    "input_images_rgb = [reverse_transform(x) for x in true_inputs]\n",
    "\n",
    "# Map each channel (i.e. class) to each color\n",
    "target_masks_rgb = [helper.masks_to_colorimg(x.cpu(), \"xD\") for x in true_labels]\n",
    "print(target_maks_rgb)\n",
    "f, axarr = plt.subplots(1,2)\n",
    "axarr[0].imshow(input_images_rgb[0])\n",
    "axarr[1].imshow(target_masks_rgb[0])"
   ]
  },
  {
   "cell_type": "markdown",
   "metadata": {},
   "source": [
    "## MODEL UNET"
   ]
  },
  {
   "cell_type": "code",
   "execution_count": 3,
   "metadata": {},
   "outputs": [
    {
     "name": "stdout",
     "output_type": "stream",
     "text": [
      "Out: torch.Size([1, 4, 320, 480])\n"
     ]
    }
   ],
   "source": [
    "import torch\n",
    "from unet import *\n",
    "model = UNet(in_channels=3,\n",
    "             out_channels=4,\n",
    "             n_blocks=4,\n",
    "             start_filters=32,\n",
    "             activation='relu',\n",
    "             normalization='batch',\n",
    "             conv_mode='same',\n",
    "             dim=2).cuda()\n",
    "\n",
    "x = torch.randn(size=(1, 3, 320, 480), dtype=torch.float32).cuda()\n",
    "\n",
    "with torch.no_grad():\n",
    "    out = model(x)\n",
    "\n",
    "print(f'Out: {out.shape}')"
   ]
  },
  {
   "cell_type": "code",
   "execution_count": 4,
   "metadata": {},
   "outputs": [
    {
     "name": "stdout",
     "output_type": "stream",
     "text": [
      "----------------------------------------------------------------\n",
      "        Layer (type)               Output Shape         Param #\n",
      "================================================================\n",
      "            Conv2d-1         [-1, 32, 320, 480]             896\n",
      "              ReLU-2         [-1, 32, 320, 480]               0\n",
      "       BatchNorm2d-3         [-1, 32, 320, 480]              64\n",
      "            Conv2d-4         [-1, 32, 320, 480]           9,248\n",
      "              ReLU-5         [-1, 32, 320, 480]               0\n",
      "       BatchNorm2d-6         [-1, 32, 320, 480]              64\n",
      "         MaxPool2d-7         [-1, 32, 160, 240]               0\n",
      "         DownBlock-8  [[-1, 32, 160, 240], [-1, 32, 320, 480]]               0\n",
      "            Conv2d-9         [-1, 64, 160, 240]          18,496\n",
      "             ReLU-10         [-1, 64, 160, 240]               0\n",
      "      BatchNorm2d-11         [-1, 64, 160, 240]             128\n",
      "           Conv2d-12         [-1, 64, 160, 240]          36,928\n",
      "             ReLU-13         [-1, 64, 160, 240]               0\n",
      "      BatchNorm2d-14         [-1, 64, 160, 240]             128\n",
      "        MaxPool2d-15          [-1, 64, 80, 120]               0\n",
      "        DownBlock-16  [[-1, 64, 80, 120], [-1, 64, 160, 240]]               0\n",
      "           Conv2d-17         [-1, 128, 80, 120]          73,856\n",
      "             ReLU-18         [-1, 128, 80, 120]               0\n",
      "      BatchNorm2d-19         [-1, 128, 80, 120]             256\n",
      "           Conv2d-20         [-1, 128, 80, 120]         147,584\n",
      "             ReLU-21         [-1, 128, 80, 120]               0\n",
      "      BatchNorm2d-22         [-1, 128, 80, 120]             256\n",
      "        MaxPool2d-23          [-1, 128, 40, 60]               0\n",
      "        DownBlock-24  [[-1, 128, 40, 60], [-1, 128, 80, 120]]               0\n",
      "           Conv2d-25          [-1, 256, 40, 60]         295,168\n",
      "             ReLU-26          [-1, 256, 40, 60]               0\n",
      "      BatchNorm2d-27          [-1, 256, 40, 60]             512\n",
      "           Conv2d-28          [-1, 256, 40, 60]         590,080\n",
      "             ReLU-29          [-1, 256, 40, 60]               0\n",
      "      BatchNorm2d-30          [-1, 256, 40, 60]             512\n",
      "        DownBlock-31  [[-1, 256, 40, 60], [-1, 256, 40, 60]]               0\n",
      "  ConvTranspose2d-32         [-1, 128, 80, 120]         131,200\n",
      "             ReLU-33         [-1, 128, 80, 120]               0\n",
      "      BatchNorm2d-34         [-1, 128, 80, 120]             256\n",
      "      Concatenate-35         [-1, 256, 80, 120]               0\n",
      "           Conv2d-36         [-1, 128, 80, 120]         295,040\n",
      "             ReLU-37         [-1, 128, 80, 120]               0\n",
      "      BatchNorm2d-38         [-1, 128, 80, 120]             256\n",
      "           Conv2d-39         [-1, 128, 80, 120]         147,584\n",
      "             ReLU-40         [-1, 128, 80, 120]               0\n",
      "      BatchNorm2d-41         [-1, 128, 80, 120]             256\n",
      "          UpBlock-42         [-1, 128, 80, 120]               0\n",
      "  ConvTranspose2d-43         [-1, 64, 160, 240]          32,832\n",
      "             ReLU-44         [-1, 64, 160, 240]               0\n",
      "      BatchNorm2d-45         [-1, 64, 160, 240]             128\n",
      "      Concatenate-46        [-1, 128, 160, 240]               0\n",
      "           Conv2d-47         [-1, 64, 160, 240]          73,792\n",
      "             ReLU-48         [-1, 64, 160, 240]               0\n",
      "      BatchNorm2d-49         [-1, 64, 160, 240]             128\n",
      "           Conv2d-50         [-1, 64, 160, 240]          36,928\n",
      "             ReLU-51         [-1, 64, 160, 240]               0\n",
      "      BatchNorm2d-52         [-1, 64, 160, 240]             128\n",
      "          UpBlock-53         [-1, 64, 160, 240]               0\n",
      "  ConvTranspose2d-54         [-1, 32, 320, 480]           8,224\n",
      "             ReLU-55         [-1, 32, 320, 480]               0\n",
      "      BatchNorm2d-56         [-1, 32, 320, 480]              64\n",
      "      Concatenate-57         [-1, 64, 320, 480]               0\n",
      "           Conv2d-58         [-1, 32, 320, 480]          18,464\n",
      "             ReLU-59         [-1, 32, 320, 480]               0\n",
      "      BatchNorm2d-60         [-1, 32, 320, 480]              64\n",
      "           Conv2d-61         [-1, 32, 320, 480]           9,248\n",
      "             ReLU-62         [-1, 32, 320, 480]               0\n",
      "      BatchNorm2d-63         [-1, 32, 320, 480]              64\n",
      "          UpBlock-64         [-1, 32, 320, 480]               0\n",
      "           Conv2d-65          [-1, 4, 320, 480]             132\n",
      "================================================================\n",
      "Total params: 1,928,964\n",
      "Trainable params: 1,928,964\n",
      "Non-trainable params: 0\n",
      "----------------------------------------------------------------\n",
      "Input size (MB): 1.76\n",
      "Forward/backward pass size (MB): 63358769.53\n",
      "Params size (MB): 7.36\n",
      "Estimated Total Size (MB): 63358778.65\n",
      "----------------------------------------------------------------\n"
     ]
    }
   ],
   "source": [
    "from torchsummary import summary\n",
    "summary = summary(model, (3, 320, 480))\n",
    "\n"
   ]
  },
  {
   "cell_type": "code",
   "execution_count": 6,
   "metadata": {},
   "outputs": [
    {
     "name": "stdout",
     "output_type": "stream",
     "text": [
      "Level 1: 960.0\n",
      "Level 2: 480.0\n",
      "Level 3: 240.0\n",
      "Level 4: 120.0\n",
      "Level 5: 60.0\n",
      "Level 6: 30.0\n",
      "Level 7: 15.0\n",
      "Max-level: 7\n"
     ]
    }
   ],
   "source": [
    "shape = 1920\n",
    "\n",
    "\n",
    "def compute_max_depth(shape, max_depth=10, print_out=True):\n",
    "    shapes = []\n",
    "    shapes.append(shape)\n",
    "    for level in range(1, max_depth):\n",
    "        if shape % 2 ** level == 0 and shape / 2 ** level > 1:\n",
    "            shapes.append(shape / 2 ** level)\n",
    "            if print_out:\n",
    "                print(f'Level {level}: {shape / 2 ** level}')\n",
    "        else:\n",
    "            if print_out:\n",
    "                print(f'Max-level: {level - 1}')\n",
    "            break\n",
    "\n",
    "    return shapes\n",
    "\n",
    "\n",
    "out = compute_max_depth(shape, print_out=True, max_depth=10)\n"
   ]
  },
  {
   "cell_type": "code",
   "execution_count": null,
   "metadata": {},
   "outputs": [],
   "source": [
    "low = 10\n",
    "high = 512\n",
    "depth = 8\n",
    "\n",
    "\n",
    "def compute_possible_shapes(low, high, depth):\n",
    "    possible_shapes = {}\n",
    "    for shape in range(low, high + 1):\n",
    "        shapes = compute_max_depth(shape,\n",
    "                                   max_depth=depth,\n",
    "                                   print_out=False)\n",
    "        if len(shapes) == depth:\n",
    "            possible_shapes[shape] = shapes\n",
    "\n",
    "    return possible_shapes\n",
    "possible_shapes = compute_possible_shapes(low, high, depth)\n",
    "possible_shapes\n"
   ]
  },
  {
   "cell_type": "markdown",
   "metadata": {},
   "source": [
    "# TRAIN ET RUN"
   ]
  },
  {
   "cell_type": "code",
   "execution_count": 12,
   "metadata": {},
   "outputs": [
    {
     "data": {
      "application/vnd.jupyter.widget-view+json": {
       "model_id": "2dc4b455126e402cb55beca447ecba2b",
       "version_major": 2,
       "version_minor": 0
      },
      "text/plain": [
       "HBox(children=(FloatProgress(value=0.0, description='Progress', max=10.0, style=ProgressStyle(description_widt…"
      ]
     },
     "metadata": {},
     "output_type": "display_data"
    },
    {
     "data": {
      "application/vnd.jupyter.widget-view+json": {
       "model_id": "41478860eb9f44d59d1f2d2d24717001",
       "version_major": 2,
       "version_minor": 0
      },
      "text/plain": [
       "HBox(children=(FloatProgress(value=0.0, description='Training', max=1109.0, style=ProgressStyle(description_wi…"
      ]
     },
     "metadata": {},
     "output_type": "display_data"
    },
    {
     "name": "stdout",
     "output_type": "stream",
     "text": [
      "[0.5236602971637647]\n"
     ]
    },
    {
     "data": {
      "application/vnd.jupyter.widget-view+json": {
       "model_id": "2070f1f25d0e476b8fc4e99714cac98c",
       "version_major": 2,
       "version_minor": 0
      },
      "text/plain": [
       "HBox(children=(FloatProgress(value=0.0, description='Validation', max=278.0, style=ProgressStyle(description_w…"
      ]
     },
     "metadata": {},
     "output_type": "display_data"
    },
    {
     "data": {
      "application/vnd.jupyter.widget-view+json": {
       "model_id": "1beb43a5c1af474585806fc2dca17b8b",
       "version_major": 2,
       "version_minor": 0
      },
      "text/plain": [
       "HBox(children=(FloatProgress(value=0.0, description='Training', max=1109.0, style=ProgressStyle(description_wi…"
      ]
     },
     "metadata": {},
     "output_type": "display_data"
    },
    {
     "name": "stdout",
     "output_type": "stream",
     "text": [
      "[0.5236602971637647, 0.4048875262599684]\n"
     ]
    },
    {
     "data": {
      "application/vnd.jupyter.widget-view+json": {
       "model_id": "b5f28c718c684f97800959aab85679af",
       "version_major": 2,
       "version_minor": 0
      },
      "text/plain": [
       "HBox(children=(FloatProgress(value=0.0, description='Validation', max=278.0, style=ProgressStyle(description_w…"
      ]
     },
     "metadata": {},
     "output_type": "display_data"
    },
    {
     "data": {
      "application/vnd.jupyter.widget-view+json": {
       "model_id": "adefc3fa06604e548cb65320e6c870ec",
       "version_major": 2,
       "version_minor": 0
      },
      "text/plain": [
       "HBox(children=(FloatProgress(value=0.0, description='Training', max=1109.0, style=ProgressStyle(description_wi…"
      ]
     },
     "metadata": {},
     "output_type": "display_data"
    },
    {
     "name": "stdout",
     "output_type": "stream",
     "text": [
      "[0.5236602971637647, 0.4048875262599684, 0.3889152407914911]\n"
     ]
    },
    {
     "data": {
      "application/vnd.jupyter.widget-view+json": {
       "model_id": "c0b5bc04bcba4d4a8ac6acad4483f26f",
       "version_major": 2,
       "version_minor": 0
      },
      "text/plain": [
       "HBox(children=(FloatProgress(value=0.0, description='Validation', max=278.0, style=ProgressStyle(description_w…"
      ]
     },
     "metadata": {},
     "output_type": "display_data"
    },
    {
     "data": {
      "application/vnd.jupyter.widget-view+json": {
       "model_id": "d778b4f9188a439e8343f3274c2423c1",
       "version_major": 2,
       "version_minor": 0
      },
      "text/plain": [
       "HBox(children=(FloatProgress(value=0.0, description='Training', max=1109.0, style=ProgressStyle(description_wi…"
      ]
     },
     "metadata": {},
     "output_type": "display_data"
    },
    {
     "name": "stdout",
     "output_type": "stream",
     "text": [
      "[0.5236602971637647, 0.4048875262599684, 0.3889152407914911, 0.3736901845047343]\n"
     ]
    },
    {
     "data": {
      "application/vnd.jupyter.widget-view+json": {
       "model_id": "c3537c276c6f4674a260f657bd2d5958",
       "version_major": 2,
       "version_minor": 0
      },
      "text/plain": [
       "HBox(children=(FloatProgress(value=0.0, description='Validation', max=278.0, style=ProgressStyle(description_w…"
      ]
     },
     "metadata": {},
     "output_type": "display_data"
    },
    {
     "data": {
      "application/vnd.jupyter.widget-view+json": {
       "model_id": "1e70c63dcd234dbb8376015797632093",
       "version_major": 2,
       "version_minor": 0
      },
      "text/plain": [
       "HBox(children=(FloatProgress(value=0.0, description='Training', max=1109.0, style=ProgressStyle(description_wi…"
      ]
     },
     "metadata": {},
     "output_type": "display_data"
    },
    {
     "name": "stdout",
     "output_type": "stream",
     "text": [
      "[0.5236602971637647, 0.4048875262599684, 0.3889152407914911, 0.3736901845047343, 0.35890005664636254]\n"
     ]
    },
    {
     "data": {
      "application/vnd.jupyter.widget-view+json": {
       "model_id": "e3c7faf7a2904910a4d36ff0784ccc78",
       "version_major": 2,
       "version_minor": 0
      },
      "text/plain": [
       "HBox(children=(FloatProgress(value=0.0, description='Validation', max=278.0, style=ProgressStyle(description_w…"
      ]
     },
     "metadata": {},
     "output_type": "display_data"
    },
    {
     "data": {
      "application/vnd.jupyter.widget-view+json": {
       "model_id": "0e1c4988f0aa43e0a7f681606e7eae41",
       "version_major": 2,
       "version_minor": 0
      },
      "text/plain": [
       "HBox(children=(FloatProgress(value=0.0, description='Training', max=1109.0, style=ProgressStyle(description_wi…"
      ]
     },
     "metadata": {},
     "output_type": "display_data"
    },
    {
     "name": "stdout",
     "output_type": "stream",
     "text": [
      "[0.5236602971637647, 0.4048875262599684, 0.3889152407914911, 0.3736901845047343, 0.35890005664636254, 0.3489252186041893]\n"
     ]
    },
    {
     "data": {
      "application/vnd.jupyter.widget-view+json": {
       "model_id": "7737f135245a48fe8169dc74fe98d7bf",
       "version_major": 2,
       "version_minor": 0
      },
      "text/plain": [
       "HBox(children=(FloatProgress(value=0.0, description='Validation', max=278.0, style=ProgressStyle(description_w…"
      ]
     },
     "metadata": {},
     "output_type": "display_data"
    },
    {
     "data": {
      "application/vnd.jupyter.widget-view+json": {
       "model_id": "ca86579ffc5846b49d7d45080f4e9069",
       "version_major": 2,
       "version_minor": 0
      },
      "text/plain": [
       "HBox(children=(FloatProgress(value=0.0, description='Training', max=1109.0, style=ProgressStyle(description_wi…"
      ]
     },
     "metadata": {},
     "output_type": "display_data"
    },
    {
     "name": "stdout",
     "output_type": "stream",
     "text": [
      "[0.5236602971637647, 0.4048875262599684, 0.3889152407914911, 0.3736901845047343, 0.35890005664636254, 0.3489252186041893, 0.3423342320755648]\n"
     ]
    },
    {
     "data": {
      "application/vnd.jupyter.widget-view+json": {
       "model_id": "9b4d7ac4d54842909483c40b5aaffde6",
       "version_major": 2,
       "version_minor": 0
      },
      "text/plain": [
       "HBox(children=(FloatProgress(value=0.0, description='Validation', max=278.0, style=ProgressStyle(description_w…"
      ]
     },
     "metadata": {},
     "output_type": "display_data"
    },
    {
     "data": {
      "application/vnd.jupyter.widget-view+json": {
       "model_id": "f2eec685d0324006817f895fa1421500",
       "version_major": 2,
       "version_minor": 0
      },
      "text/plain": [
       "HBox(children=(FloatProgress(value=0.0, description='Training', max=1109.0, style=ProgressStyle(description_wi…"
      ]
     },
     "metadata": {},
     "output_type": "display_data"
    },
    {
     "name": "stdout",
     "output_type": "stream",
     "text": [
      "[0.5236602971637647, 0.4048875262599684, 0.3889152407914911, 0.3736901845047343, 0.35890005664636254, 0.3489252186041893, 0.3423342320755648, 0.33711877318789446]\n"
     ]
    },
    {
     "data": {
      "application/vnd.jupyter.widget-view+json": {
       "model_id": "6d5f0d0a8e1f404a9e09a6fb4c4e8e5f",
       "version_major": 2,
       "version_minor": 0
      },
      "text/plain": [
       "HBox(children=(FloatProgress(value=0.0, description='Validation', max=278.0, style=ProgressStyle(description_w…"
      ]
     },
     "metadata": {},
     "output_type": "display_data"
    },
    {
     "data": {
      "application/vnd.jupyter.widget-view+json": {
       "model_id": "a9729b813512406dbffd2a276caa40f9",
       "version_major": 2,
       "version_minor": 0
      },
      "text/plain": [
       "HBox(children=(FloatProgress(value=0.0, description='Training', max=1109.0, style=ProgressStyle(description_wi…"
      ]
     },
     "metadata": {},
     "output_type": "display_data"
    },
    {
     "name": "stdout",
     "output_type": "stream",
     "text": [
      "[0.5236602971637647, 0.4048875262599684, 0.3889152407914911, 0.3736901845047343, 0.35890005664636254, 0.3489252186041893, 0.3423342320755648, 0.33711877318789446, 0.3324727215967918]\n"
     ]
    },
    {
     "data": {
      "application/vnd.jupyter.widget-view+json": {
       "model_id": "505e3273b448492099ff27ba8603cb3f",
       "version_major": 2,
       "version_minor": 0
      },
      "text/plain": [
       "HBox(children=(FloatProgress(value=0.0, description='Validation', max=278.0, style=ProgressStyle(description_w…"
      ]
     },
     "metadata": {},
     "output_type": "display_data"
    },
    {
     "data": {
      "application/vnd.jupyter.widget-view+json": {
       "model_id": "8f401a193a15493c92a9277070a7806b",
       "version_major": 2,
       "version_minor": 0
      },
      "text/plain": [
       "HBox(children=(FloatProgress(value=0.0, description='Training', max=1109.0, style=ProgressStyle(description_wi…"
      ]
     },
     "metadata": {},
     "output_type": "display_data"
    },
    {
     "name": "stdout",
     "output_type": "stream",
     "text": [
      "[0.5236602971637647, 0.4048875262599684, 0.3889152407914911, 0.3736901845047343, 0.35890005664636254, 0.3489252186041893, 0.3423342320755648, 0.33711877318789446, 0.3324727215967918, 0.3276047067963615]\n"
     ]
    },
    {
     "data": {
      "application/vnd.jupyter.widget-view+json": {
       "model_id": "10652e0ceea74b10a86121aac38ba87d",
       "version_major": 2,
       "version_minor": 0
      },
      "text/plain": [
       "HBox(children=(FloatProgress(value=0.0, description='Validation', max=278.0, style=ProgressStyle(description_w…"
      ]
     },
     "metadata": {},
     "output_type": "display_data"
    },
    {
     "name": "stdout",
     "output_type": "stream",
     "text": [
      "\n"
     ]
    }
   ],
   "source": [
    "from train import Trainer\n",
    "\n",
    "# device\n",
    "if torch.cuda.is_available():\n",
    "    device = torch.device('cuda')\n",
    "else:\n",
    "    torch.device('cpu')\n",
    "\n",
    "# criterion\n",
    "criterion = torch.nn.BCEWithLogitsLoss()\n",
    "\n",
    "# optimizer\n",
    "optimizer = torch.optim.SGD(model.parameters(), lr=0.01)\n",
    "\n",
    "# trainer\n",
    "trainer = Trainer(model=model,\n",
    "                  device=device,\n",
    "                  criterion=criterion,\n",
    "                  optimizer=optimizer,\n",
    "                  training_DataLoader=dataloader_training,\n",
    "                  validation_DataLoader=dataloader_validation,\n",
    "                  lr_scheduler=None,\n",
    "                  epochs=10,\n",
    "                  epoch=0,\n",
    "                  notebook=True)\n",
    "\n",
    "# start training\n",
    "training_losses, validation_losses, lr_rates = trainer.run_trainer()\n"
   ]
  },
  {
   "cell_type": "markdown",
   "metadata": {},
   "source": [
    "# SAVE THE MODEL"
   ]
  },
  {
   "cell_type": "code",
   "execution_count": null,
   "metadata": {},
   "outputs": [],
   "source": [
    "model_name =  'cloud.pt'\n",
    "torch.save(model.state_dict(), pathlib.Path.cwd() / model_name)"
   ]
  },
  {
   "cell_type": "markdown",
   "metadata": {},
   "source": [
    "# LEARNING RATE"
   ]
  },
  {
   "cell_type": "code",
   "execution_count": 13,
   "metadata": {},
   "outputs": [
    {
     "data": {
      "application/vnd.jupyter.widget-view+json": {
       "model_id": "aa45fa57ae3d4c949e4d9babca3d5e13",
       "version_major": 2,
       "version_minor": 0
      },
      "text/plain": [
       "HBox(children=(FloatProgress(value=0.0, description='Progress', max=1.0, style=ProgressStyle(description_width…"
      ]
     },
     "metadata": {},
     "output_type": "display_data"
    },
    {
     "data": {
      "application/vnd.jupyter.widget-view+json": {
       "model_id": "2145ae84109e403bb9d0763da138af3f",
       "version_major": 2,
       "version_minor": 0
      },
      "text/plain": [
       "HBox(children=(FloatProgress(value=0.0, description='Training', max=1109.0, style=ProgressStyle(description_wi…"
      ]
     },
     "metadata": {},
     "output_type": "display_data"
    },
    {
     "name": "stdout",
     "output_type": "stream",
     "text": [
      "\n"
     ]
    }
   ],
   "source": [
    "from lr_rate_finder import *\n",
    "lrf = LearningRateFinder(model, criterion, optimizer, device)\n",
    "lrf.fit(dataloader_training, steps=1000)"
   ]
  },
  {
   "cell_type": "code",
   "execution_count": 14,
   "metadata": {},
   "outputs": [
    {
     "name": "stderr",
     "output_type": "stream",
     "text": [
      "/usr/local/lib/python3.6/dist-packages/matplotlib/cbook/__init__.py:1377: FutureWarning: Support for multi-dimensional indexing (e.g. `obj[:, None]`) is deprecated and will be removed in a future version.  Convert to a numpy array before indexing instead.\n",
      "  x[:, None]\n",
      "/usr/local/lib/python3.6/dist-packages/matplotlib/axes/_base.py:239: FutureWarning: Support for multi-dimensional indexing (e.g. `obj[:, None]`) is deprecated and will be removed in a future version.  Convert to a numpy array before indexing instead.\n",
      "  y = y[:, np.newaxis]\n"
     ]
    },
    {
     "data": {
      "image/png": "[encoded data removed]",
      "text/plain": [
       "<Figure size 432x288 with 1 Axes>"
      ]
     },
     "metadata": {
      "needs_background": "light"
     },
     "output_type": "display_data"
    }
   ],
   "source": [
    "lrf.plot()\n"
   ]
  },
  {
   "cell_type": "code",
   "execution_count": 15,
   "metadata": {},
   "outputs": [
    {
     "name": "stdout",
     "output_type": "stream",
     "text": [
      "[0.5236602971637647, 0.4048875262599684, 0.3889152407914911, 0.3736901845047343, 0.35890005664636254, 0.3489252186041893, 0.3423342320755648, 0.33711877318789446, 0.3324727215967918, 0.3276047067963615]\n",
      "[0.4136939676974317, 0.3878662595860392, 0.37036741090764247, 0.35209458868066185, 0.33502828646049226, 0.32554947815353064, 0.31828183600370835, 0.3140017556415187, 0.31111794383191377, 0.30918377166171723]\n"
     ]
    }
   ],
   "source": [
    "%matplotlib inline\n",
    "\n",
    "import matplotlib.pyplot as plt\n",
    "fig = plt.show(training_losses, validation_losses)\n",
    "print(training_losses)\n",
    "print(validation_losses)"
   ]
  },
  {
   "cell_type": "code",
   "execution_count": 16,
   "metadata": {},
   "outputs": [
    {
     "data": {
      "image/png": "[encoded data removed]",
      "text/plain": [
       "<Figure size 720x288 with 2 Axes>"
      ]
     },
     "metadata": {
      "needs_background": "light"
     },
     "output_type": "display_data"
    }
   ],
   "source": [
    "from visual import plot_training\n",
    "fig = plot_training(training_losses, validation_losses, lr_rates, gaussian=True, sigma=1, figsize=(10, 4))"
   ]
  },
  {
   "cell_type": "code",
   "execution_count": 18,
   "metadata": {},
   "outputs": [
    {
     "data": {
      "text/plain": [
       "<matplotlib.image.AxesImage at 0x7f169c3db908>"
      ]
     },
     "execution_count": 18,
     "metadata": {},
     "output_type": "execute_result"
    },
    {
     "data": {
      "image/png": "[encoded data removed]",
      "text/plain": [
       "<Figure size 432x288 with 6 Axes>"
      ]
     },
     "metadata": {
      "needs_background": "light"
     },
     "output_type": "display_data"
    }
   ],
   "source": [
    "import math\n",
    "from sklearn.model_selection import train_test_split\n",
    "\n",
    "import pathlib\n",
    "\n",
    "random_seed = 42\n",
    "\n",
    "# root directory\n",
    "root = pathlib.Path.cwd() / 'understanding_cloud_organization'\n",
    "def get_filenames_of_path(path: pathlib.Path, ext: str = '*'):\n",
    "    \"\"\"Returns a list of files in a directory/path. Uses pathlib.\"\"\"\n",
    "    filenames = [file for file in path.glob(ext) if file.is_file()]\n",
    "    return filenames\n",
    "\n",
    "# input and target files\n",
    "inputs = get_filenames_of_path(root / 'train_images_320')\n",
    "targets = get_filenames_of_path(root / 'train_images_320_Black_Fish_Gravel_Sugar_Flower')\n",
    "\n",
    "model.eval()   # Set model to evaluate mode\n",
    "\n",
    "train_size = 0.8  # 80:20 split\n",
    "inputs_train, inputs_valid = train_test_split(\n",
    "    inputs,\n",
    "    random_state=random_seed,\n",
    "    train_size=train_size,\n",
    "    shuffle=True)\n",
    "\n",
    "test_dataset = SegmentationDataSet(inputs=inputs_train,\n",
    "                                    targets=targets_train,\n",
    "                                    transform=transforms)\n",
    "\n",
    "test_loader = SegmentationDataSet(inputs=inputs_train,\n",
    "                                    targets=targets_train,\n",
    "                                    transform=transforms)\n",
    "\n",
    "# dataloader training\n",
    "dataloader_training = DataLoader(dataset=dataset_train,\n",
    "                                 batch_size=2,\n",
    "                                 shuffle=False)\n",
    "# dataloader validation\n",
    "dataloader_validation = DataLoader(dataset=dataset_valid,\n",
    "                                   batch_size=2,\n",
    "                                   shuffle=False)\n",
    "        \n",
    "x, y = next(iter(dataloader_training))\n",
    "true_inputs = x.to(device)\n",
    "true_labels = y.to(device)\n",
    "\n",
    "pred = model(true_inputs).cpu()\n",
    "out_pred = torch.softmax(pred, dim=1).detach()\n",
    "\n",
    "\n",
    "true_inputs = true_inputs.cpu()\n",
    "true_labels = true_labels.cpu()\n",
    "\n",
    "\n",
    "\n",
    "import torchvision.utils\n",
    "from skimage.io import imread\n",
    "import numpy as np\n",
    "import helper\n",
    "\n",
    "def reverse_transform(inp):\n",
    "    inp = inp.numpy()\n",
    "    inp = np.moveaxis(inp, -1, 0)\n",
    "    inp = np.moveaxis(inp, -1, 0)\n",
    "    input_asarray = np.clip(inp, 0, 1)\n",
    "    input_asarray = (input_asarray * 255).astype(np.uint8)\n",
    "    return input_asarray\n",
    "\n",
    "# Change channel-order and make 3 channels for matplot\n",
    "input_images_rgb = [reverse_transform(x) for x in true_inputs]\n",
    "\n",
    "# Map each channel (i.e. class) to each color\n",
    "target_masks_rgb = [helper.masks_to_colorimg(x.cpu(), \"xD\") for x in true_labels]\n",
    "\n",
    "pred_rgb = [helper.masks_to_colorimg(x, \"xD\") for x in out_pred]\n",
    "\n",
    "f, axarr = plt.subplots(2,3)\n",
    "axarr[0][0].imshow(input_images_rgb[0])\n",
    "axarr[0][1].imshow(target_masks_rgb[0])\n",
    "axarr[0][2].imshow(pred_rgb[0])\n",
    "axarr[1][0].imshow(input_images_rgb[1])\n",
    "axarr[1][1].imshow(target_masks_rgb[1])\n",
    "axarr[1][2].imshow(pred_rgb[1])"
   ]
  },
  {
   "cell_type": "code",
   "execution_count": null,
   "metadata": {},
   "outputs": [],
   "source": []
  },
  {
   "cell_type": "code",
   "execution_count": null,
   "metadata": {},
   "outputs": [],
   "source": []
  }
 ],
 "metadata": {
  "kernelspec": {
   "display_name": "Python 3",
   "language": "python",
   "name": "python3"
  },
  "language_info": {
   "codemirror_mode": {
    "name": "ipython",
    "version": 3
   },
   "file_extension": ".py",
   "mimetype": "text/x-python",
   "name": "python",
   "nbconvert_exporter": "python",
   "pygments_lexer": "ipython3",
   "version": "3.6.9"
  }
 },
 "nbformat": 4,
 "nbformat_minor": 2
}
